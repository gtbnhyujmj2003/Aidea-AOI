{
  "nbformat": 4,
  "nbformat_minor": 0,
  "metadata": {
    "colab": {
      "name": "EFF B5.ipynb",
      "provenance": [],
      "collapsed_sections": [],
      "mount_file_id": "1lx7eTG__V-Hzy7E3bqqgHXKM1bIwZYm9",
      "authorship_tag": "ABX9TyPNF5UL1SCaVSqNVOquBVin",
      "include_colab_link": true
    },
    "kernelspec": {
      "name": "python3",
      "display_name": "Python 3"
    },
    "accelerator": "GPU"
  },
  "cells": [
    {
      "cell_type": "markdown",
      "metadata": {
        "id": "view-in-github",
        "colab_type": "text"
      },
      "source": [
        "<a href=\"https://colab.research.google.com/github/gtbnhyujmj2003/Aidea-AOI/blob/master/%5BAidea%5D%5BAOI%5D%5B11%5D%20EfficientNet%20B4%20-%20%5Blr%20%3D%204%20x%200%5D%5Bsize%20%3D%20224%5D.ipynb\" target=\"_parent\"><img src=\"https://colab.research.google.com/assets/colab-badge.svg\" alt=\"Open In Colab\"/></a>"
      ]
    },
    {
      "cell_type": "code",
      "metadata": {
        "id": "1ZNAD2Qsv2tF",
        "colab_type": "code",
        "colab": {}
      },
      "source": [
        "%tensorflow_version 2.x\n",
        "!pip install -U efficientnet"
      ],
      "execution_count": null,
      "outputs": []
    },
    {
      "cell_type": "code",
      "metadata": {
        "id": "y1zEVOuBv426",
        "colab_type": "code",
        "colab": {}
      },
      "source": [
        "# 因為圖片實在太多，所以要用壓縮檔載入\n",
        "\n",
        "import zipfile\n",
        "\n",
        "f = zipfile.ZipFile(\"./drive/My Drive/AOI/train_images.zip\")\n",
        "f.extractall(\"./datasets\")"
      ],
      "execution_count": 2,
      "outputs": []
    },
    {
      "cell_type": "code",
      "metadata": {
        "id": "u7ZEOTTNv402",
        "colab_type": "code",
        "colab": {}
      },
      "source": [
        "# 創造資料夾\n",
        "\n",
        "import os\n",
        "\n",
        "for class_num in range(6):\n",
        "  DATASET_PATH_TRAIN = '/content/train_images/'\n",
        "  DATASET_PATH_TEST = '/content/test_images/'\n",
        "\n",
        "  # exist_ok：只有在目录不存在时创建目录，目录已存在时不会抛出异常。\n",
        "  os.makedirs(DATASET_PATH_TRAIN + str(class_num), exist_ok=True)\n",
        "  os.makedirs(DATASET_PATH_TEST + \"test\", exist_ok=True)"
      ],
      "execution_count": 3,
      "outputs": []
    },
    {
      "cell_type": "code",
      "metadata": {
        "id": "PiCWUtITv4ya",
        "colab_type": "code",
        "colab": {}
      },
      "source": [
        "# 移動檔案\n",
        "\n",
        "import shutil\n",
        "import pandas as pd\n",
        "\n",
        "imageAns = pd.read_csv(\"./drive/My Drive/AOI/train.csv\")\n",
        "\n",
        "for class_num in range(6):\n",
        "  class00 = imageAns[imageAns[\"Label\"] == class_num]\n",
        "  class_list = class00[\"ID\"]\n",
        "  # print(class_list)\n",
        "\n",
        "  for c in class_list:\n",
        "    shutil.move('/content/datasets/train_images/' + str(c), \n",
        "                '/content/train_images/' + str(class_num) + \"/\" + str(c))"
      ],
      "execution_count": 4,
      "outputs": []
    },
    {
      "cell_type": "code",
      "metadata": {
        "id": "EIEmoTYmv4v1",
        "colab_type": "code",
        "colab": {}
      },
      "source": [
        "# Generator\n",
        "\n",
        "from tensorflow.keras.preprocessing.image import ImageDataGenerator\n",
        "Generator = ImageDataGenerator(rescale= (1. - 127.5) / 127.5,\n",
        "                               validation_split= 0.05)"
      ],
      "execution_count": 5,
      "outputs": []
    },
    {
      "cell_type": "code",
      "metadata": {
        "id": "2233_LeewKL7",
        "colab_type": "code",
        "colab": {}
      },
      "source": [
        "# 使用不同 efficientnetB 系列时，需要注意图片输入尺寸\n",
        "\n",
        "# efficientnet-b0-224\n",
        "# efficientnet-b1-240\n",
        "# efficientnet-b2-260\n",
        "# efficientnet-b3-300\n",
        "# efficientnet-b4-380\n",
        "# efficientnet-b5-456\n",
        "# efficientnet-b6-528\n",
        "# efficientnet-b7-600"
      ],
      "execution_count": 6,
      "outputs": []
    },
    {
      "cell_type": "code",
      "metadata": {
        "id": "cVjDAFFIv4ti",
        "colab_type": "code",
        "colab": {}
      },
      "source": [
        "Size = 224"
      ],
      "execution_count": 7,
      "outputs": []
    },
    {
      "cell_type": "code",
      "metadata": {
        "id": "LCi7VfAIv4rI",
        "colab_type": "code",
        "colab": {
          "base_uri": "https://localhost:8080/",
          "height": 52
        },
        "outputId": "e8a44c5c-c446-4b9f-8abb-4b8353eaa75d"
      },
      "source": [
        "TrainFlowGenerator = Generator.flow_from_directory(\n",
        "    directory= \"/content/train_images/\",\n",
        "    target_size= (Size, Size),\n",
        "    class_mode= \"sparse\", \n",
        "    subset= \"training\")\n",
        "\n",
        "ValidFlowGenetator = Generator.flow_from_directory(\n",
        "    directory= \"/content/train_images/\",\n",
        "    target_size= (Size, Size),\n",
        "    class_mode= \"sparse\", \n",
        "    subset= \"validation\")"
      ],
      "execution_count": 8,
      "outputs": [
        {
          "output_type": "stream",
          "text": [
            "Found 2404 images belonging to 6 classes.\n",
            "Found 124 images belonging to 6 classes.\n"
          ],
          "name": "stdout"
        }
      ]
    },
    {
      "cell_type": "code",
      "metadata": {
        "id": "Bxqd7_YVv4oq",
        "colab_type": "code",
        "colab": {
          "base_uri": "https://localhost:8080/",
          "height": 72
        },
        "outputId": "dddec608-1812-40fe-ea89-0b5a931103a9"
      },
      "source": [
        "import efficientnet.tfkeras as efn\n",
        "\n",
        "from tensorflow.keras.models import Model\n",
        "from tensorflow.keras.layers import Dense, Flatten, Dropout, MaxPooling2D\n",
        "from tensorflow.keras.layers import BatchNormalization, Activation, GlobalAveragePooling2D\n",
        "\n",
        "EfficientNet = efn.EfficientNetB4(input_shape=(Size, Size, 3),\n",
        "                                  include_top=False)\n",
        "\n",
        "x = EfficientNet.output\n",
        "x = GlobalAveragePooling2D()(x)\n",
        "x = Dense(1024, activation=\"tanh\")(x)\n",
        "y = Dense(6, activation=\"softmax\")(x)\n",
        "\n",
        "model = Model(inputs=EfficientNet.input, outputs=y)"
      ],
      "execution_count": 9,
      "outputs": [
        {
          "output_type": "stream",
          "text": [
            "Downloading data from https://github.com/Callidior/keras-applications/releases/download/efficientnet/efficientnet-b4_weights_tf_dim_ordering_tf_kernels_autoaugment_notop.h5\n",
            "71892992/71892840 [==============================] - 6s 0us/step\n"
          ],
          "name": "stdout"
        }
      ]
    },
    {
      "cell_type": "code",
      "metadata": {
        "id": "W9ZkaCPBv4mh",
        "colab_type": "code",
        "colab": {}
      },
      "source": [
        "from tensorflow.keras.optimizers import Adam\n",
        "from tensorflow.keras.losses import SparseCategoricalCrossentropy\n",
        "\n",
        "model.compile(optimizer= Adam(learning_rate=0.00001),\n",
        "              loss= SparseCategoricalCrossentropy(),\n",
        "              metrics= ['accuracy'],)"
      ],
      "execution_count": 10,
      "outputs": []
    },
    {
      "cell_type": "code",
      "metadata": {
        "id": "dwSv5s2Ev4kH",
        "colab_type": "code",
        "colab": {}
      },
      "source": [
        "history = model.fit(TrainFlowGenerator, \n",
        "                    epochs=50, verbose=2,\n",
        "                    validation_data= ValidFlowGenetator,\n",
        "                   )"
      ],
      "execution_count": null,
      "outputs": []
    },
    {
      "cell_type": "code",
      "metadata": {
        "id": "yFusC1W0wqtS",
        "colab_type": "code",
        "colab": {
          "base_uri": "https://localhost:8080/",
          "height": 295
        },
        "outputId": "5d33d9f4-b98d-444c-d3a9-333b88d1c417"
      },
      "source": [
        "# accuracy\n",
        "\n",
        "import matplotlib.pyplot as plt\n",
        "\n",
        "plt.plot(history.history['accuracy'])\n",
        "plt.plot(history.history['val_accuracy'])\n",
        "\n",
        "plt.title('model accuracy')\n",
        "\n",
        "plt.ylabel('accuracy')\n",
        "plt.xlabel('epoch')\n",
        "\n",
        "plt.legend(['Train', 'Valid'], loc='upper left') \n",
        "plt.show()"
      ],
      "execution_count": 12,
      "outputs": [
        {
          "output_type": "display_data",
          "data": {
            "image/png": "[encoded data removed]",
            "text/plain": [
              "<Figure size 432x288 with 1 Axes>"
            ]
          },
          "metadata": {
            "tags": [],
            "needs_background": "light"
          }
        }
      ]
    },
    {
      "cell_type": "code",
      "metadata": {
        "id": "PqQXmwUBwqq1",
        "colab_type": "code",
        "colab": {}
      },
      "source": [
        "# 載入 真．驗證資料\n",
        "import zipfile\n",
        "\n",
        "f = zipfile.ZipFile(\"./drive/My Drive/AOI/test_images.zip\")\n",
        "f.extractall(\"./datasets_test/\")"
      ],
      "execution_count": 13,
      "outputs": []
    },
    {
      "cell_type": "code",
      "metadata": {
        "id": "M1zxypcpwqoj",
        "colab_type": "code",
        "colab": {
          "base_uri": "https://localhost:8080/",
          "height": 34
        },
        "outputId": "d7bb8975-2591-4bee-befc-031f51e690ee"
      },
      "source": [
        "TestFlowed = Generator.flow_from_directory(\n",
        "    directory = \"/content/datasets_test/\",\n",
        "    target_size= (Size, Size),\n",
        "    class_mode= None,\n",
        "    shuffle= False, \n",
        "    )"
      ],
      "execution_count": 14,
      "outputs": [
        {
          "output_type": "stream",
          "text": [
            "Found 10142 images belonging to 1 classes.\n"
          ],
          "name": "stdout"
        }
      ]
    },
    {
      "cell_type": "code",
      "metadata": {
        "id": "ufiSdhpjwqgE",
        "colab_type": "code",
        "colab": {
          "base_uri": "https://localhost:8080/",
          "height": 34
        },
        "outputId": "cdb04ed8-c1b2-460f-b24b-8dd7242cc94d"
      },
      "source": [
        "predict = model.predict(TestFlowed, verbose=1).argmax(axis=-1)"
      ],
      "execution_count": 15,
      "outputs": [
        {
          "output_type": "stream",
          "text": [
            "317/317 [==============================] - 91s 288ms/step\n"
          ],
          "name": "stdout"
        }
      ]
    },
    {
      "cell_type": "code",
      "metadata": {
        "id": "ihSPW-Vpwqdf",
        "colab_type": "code",
        "colab": {}
      },
      "source": [
        "# 預言文件\n",
        "\n",
        "import pandas as pd\n",
        "\n",
        "result = pd.read_csv(\"./drive/My Drive/AOI/test.csv\")\n",
        "\n",
        "result[\"Label\"] = list(predict)"
      ],
      "execution_count": 16,
      "outputs": []
    },
    {
      "cell_type": "code",
      "metadata": {
        "id": "hrARJ3V1Nq5K",
        "colab_type": "code",
        "colab": {}
      },
      "source": [
        "# 存檔 上傳Aidea 拿成績\n",
        "result.to_csv(\"/content/drive/My Drive/Result.csv\", encoding=\"UTF8\", index=False)"
      ],
      "execution_count": 17,
      "outputs": []
    },
    {
      "cell_type": "code",
      "metadata": {
        "id": "xIppnQd0Nq2-",
        "colab_type": "code",
        "colab": {
          "base_uri": "https://localhost:8080/",
          "height": 287
        },
        "outputId": "13d0d008-d954-40d1-e997-8005db32b235"
      },
      "source": [
        "from tensorflow.keras.preprocessing.image import load_img\n",
        "\n",
        "load_img('/content/drive/My Drive/GG/AA.png')"
      ],
      "execution_count": 19,
      "outputs": [
        {
          "output_type": "execute_result",
          "data": {
            "image/png": "[encoded data removed]",
            "text/plain": [
              "<PIL.PngImagePlugin.PngImageFile image mode=RGB size=1121x336 at 0x7FED586F1A20>"
            ]
          },
          "metadata": {
            "tags": []
          },
          "execution_count": 19
        }
      ]
    }
  ]
}