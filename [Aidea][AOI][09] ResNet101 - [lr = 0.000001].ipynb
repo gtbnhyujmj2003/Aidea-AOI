{
  "nbformat": 4,
  "nbformat_minor": 0,
  "metadata": {
    "colab": {
      "name": "resnet100.ipynb",
      "provenance": [],
      "collapsed_sections": [],
      "mount_file_id": "1dIhg0MlVD5G-BHm-KDT_XRWi4SL3UEBU",
      "authorship_tag": "ABX9TyPXcGNN+QVMRRNWz0d8DvPC",
      "include_colab_link": true
    },
    "kernelspec": {
      "name": "python3",
      "display_name": "Python 3"
    },
    "accelerator": "GPU"
  },
  "cells": [
    {
      "cell_type": "markdown",
      "metadata": {
        "id": "view-in-github",
        "colab_type": "text"
      },
      "source": [
        "<a href=\"https://colab.research.google.com/github/gtbnhyujmj2003/Aidea-AOI/blob/master/%5BAidea%5D%5BAOI%5D%5B09%5D%20ResNet101%20-%20%5Blr%20%3D%200.000001%5D.ipynb\" target=\"_parent\"><img src=\"https://colab.research.google.com/assets/colab-badge.svg\" alt=\"Open In Colab\"/></a>"
      ]
    },
    {
      "cell_type": "code",
      "metadata": {
        "id": "URMpuKdIPWRj",
        "colab_type": "code",
        "colab": {}
      },
      "source": [
        "%tensorflow_version 2.x"
      ],
      "execution_count": 1,
      "outputs": []
    },
    {
      "cell_type": "code",
      "metadata": {
        "id": "Sa6iHrcGQbWP",
        "colab_type": "code",
        "colab": {}
      },
      "source": [
        "# 因為圖片實在太多，所以要用壓縮檔載入\n",
        "\n",
        "import zipfile\n",
        "\n",
        "f = zipfile.ZipFile(\"./drive/My Drive/AOI/train_images.zip\")\n",
        "f.extractall(\"./datasets\")"
      ],
      "execution_count": 2,
      "outputs": []
    },
    {
      "cell_type": "code",
      "metadata": {
        "id": "ENGGJs8yQbT2",
        "colab_type": "code",
        "colab": {}
      },
      "source": [
        "# 創造資料夾\n",
        "\n",
        "import os\n",
        "\n",
        "for class_num in range(6):\n",
        "  DATASET_PATH_TRAIN = '/content/train_images/'\n",
        "  DATASET_PATH_TEST = '/content/test_images/'\n",
        "\n",
        "  # exist_ok：只有在目录不存在时创建目录，目录已存在时不会抛出异常。\n",
        "  os.makedirs(DATASET_PATH_TRAIN + str(class_num), exist_ok=True)\n",
        "  os.makedirs(DATASET_PATH_TEST + \"test\", exist_ok=True)"
      ],
      "execution_count": 3,
      "outputs": []
    },
    {
      "cell_type": "code",
      "metadata": {
        "id": "gsaesCwWWj0v",
        "colab_type": "code",
        "colab": {}
      },
      "source": [
        "# 設計函數\n",
        "\n",
        "from tensorflow.keras.preprocessing.image import load_img\n",
        "from tensorflow.keras.applications.resnet_v2 import preprocess_input\n",
        "import numpy as np\n",
        "import cv2\n",
        "\n",
        "# The images are converted from RGB to BGR,\n",
        "# then each color channel is zero-centered with respect to the ImageNet dataset, without scaling.\n",
        "\n",
        "def IMG_ResnetV2_preprocessed (Paths, AnswerCSV):\n",
        "  # folderName and fileName\n",
        "  \n",
        "  ImageAnswer = AnswerCSV\n",
        "\n",
        "  AA = Paths.split(\"/\")[-1]\n",
        "  BB = ImageAnswer[ImageAnswer[\"ID\"] == AA][\"Label\"]\n",
        "  ID = BB.values[0]\n",
        "\n",
        "  fileName = AA\n",
        "  folderName = ID\n",
        "  \n",
        "  # 圖片預處理\n",
        "  img = load_img(Paths)\n",
        "  img_npm = np.array(img)\n",
        "  img_pre = preprocess_input(img_npm)\n",
        "  IMGED = np.array(img_pre)\n",
        "\n",
        "  # 存檔\n",
        "  NewPaths = \"/content/train_images/\" + str(folderName) + \"/\" + str(fileName)\n",
        "  cv2.imwrite(NewPaths, IMGED)"
      ],
      "execution_count": 4,
      "outputs": []
    },
    {
      "cell_type": "code",
      "metadata": {
        "id": "ObthRckEQbRY",
        "colab_type": "code",
        "colab": {}
      },
      "source": [
        "import pandas as pd\n",
        "from glob import glob\n",
        "\n",
        "Paths = glob('/content/datasets/train_images/*')\n",
        "AnswerCSV = pd.read_csv(\"./drive/My Drive/AOI/train.csv\")\n",
        "\n",
        "for Paths in Paths:\n",
        "  IMG_ResnetV2_preprocessed(Paths, AnswerCSV)"
      ],
      "execution_count": 5,
      "outputs": []
    },
    {
      "cell_type": "code",
      "metadata": {
        "id": "K9S9eLE-QbO0",
        "colab_type": "code",
        "colab": {}
      },
      "source": [
        "# Generator\n",
        "\n",
        "from tensorflow.keras.preprocessing.image import ImageDataGenerator\n",
        "Generator = ImageDataGenerator(rescale= 1. ,\n",
        "                               validation_split= 0.2)"
      ],
      "execution_count": 6,
      "outputs": []
    },
    {
      "cell_type": "code",
      "metadata": {
        "id": "fZMVld8jQnVH",
        "colab_type": "code",
        "colab": {}
      },
      "source": [
        "Size = 224"
      ],
      "execution_count": 7,
      "outputs": []
    },
    {
      "cell_type": "code",
      "metadata": {
        "id": "rrZiSCwOQbMZ",
        "colab_type": "code",
        "colab": {
          "base_uri": "https://localhost:8080/",
          "height": 52
        },
        "outputId": "7270e251-2e08-41c7-b7ee-0a011ac58273"
      },
      "source": [
        "TrainFlowGenerator = Generator.flow_from_directory(\n",
        "    directory= \"/content/train_images/\",\n",
        "    target_size= (Size, Size),\n",
        "    class_mode= \"sparse\", \n",
        "    subset= \"training\")\n",
        "\n",
        "ValidFlowGenetator = Generator.flow_from_directory(\n",
        "    directory= \"/content/train_images/\",\n",
        "    target_size= (Size, Size),\n",
        "    class_mode= \"sparse\", \n",
        "    subset= \"validation\")"
      ],
      "execution_count": 8,
      "outputs": [
        {
          "output_type": "stream",
          "text": [
            "Found 2025 images belonging to 6 classes.\n",
            "Found 503 images belonging to 6 classes.\n"
          ],
          "name": "stdout"
        }
      ]
    },
    {
      "cell_type": "code",
      "metadata": {
        "id": "3VFivaLyQbJ3",
        "colab_type": "code",
        "colab": {}
      },
      "source": [
        "from tensorflow.keras.models import Model\n",
        "from tensorflow.keras.applications import ResNet101V2\n",
        "\n",
        "from tensorflow.keras.models import Model\n",
        "from tensorflow.keras.layers import Dense, Flatten, Dropout, MaxPooling2D\n",
        "from tensorflow.keras.layers import BatchNormalization, Activation, GlobalAveragePooling2D\n",
        "\n",
        "ResNet101V2 = ResNet101V2(input_shape=(Size, Size, 3),\n",
        "                          include_top=False)\n",
        "\n",
        "x = ResNet101V2.output\n",
        "x = GlobalAveragePooling2D()(x)\n",
        "x = Flatten()(x)\n",
        "x = Dense(1024, activation=\"tanh\")(x)\n",
        "y = Dense(6, activation=\"softmax\")(x)\n",
        "\n",
        "model = Model(inputs=ResNet101V2.input, outputs=y)"
      ],
      "execution_count": 9,
      "outputs": []
    },
    {
      "cell_type": "code",
      "metadata": {
        "id": "ZJLh89T4QbHl",
        "colab_type": "code",
        "colab": {}
      },
      "source": [
        "from tensorflow.keras.optimizers import Adam\n",
        "from tensorflow.keras.losses import SparseCategoricalCrossentropy\n",
        "\n",
        "model.compile(optimizer= Adam(learning_rate=0.000001),\n",
        "              loss= SparseCategoricalCrossentropy(),\n",
        "              metrics= ['accuracy'],)"
      ],
      "execution_count": 10,
      "outputs": []
    },
    {
      "cell_type": "code",
      "metadata": {
        "id": "_erUOdhyQbFE",
        "colab_type": "code",
        "colab": {}
      },
      "source": [
        "history = model.fit(TrainFlowGenerator,\n",
        "                    epochs=50, verbose=2,\n",
        "                    validation_data= ValidFlowGenetator,\n",
        "                   )"
      ],
      "execution_count": null,
      "outputs": []
    },
    {
      "cell_type": "code",
      "metadata": {
        "id": "8z3I0sOyQbCz",
        "colab_type": "code",
        "colab": {
          "base_uri": "https://localhost:8080/",
          "height": 295
        },
        "outputId": "a17cbb4b-e47c-47e6-9a02-4b08df8057bb"
      },
      "source": [
        "# accuracy\n",
        "\n",
        "import matplotlib.pyplot as plt\n",
        "\n",
        "plt.plot(history.history['accuracy'])\n",
        "plt.plot(history.history['val_accuracy'])\n",
        "\n",
        "plt.title('model accuracy')\n",
        "\n",
        "plt.ylabel('accuracy')\n",
        "plt.xlabel('epoch')\n",
        "\n",
        "plt.legend(['Train', 'Valid'], loc='upper left') \n",
        "plt.show()"
      ],
      "execution_count": 12,
      "outputs": [
        {
          "output_type": "display_data",
          "data": {
            "image/png": "[encoded data removed]",
            "text/plain": [
              "<Figure size 432x288 with 1 Axes>"
            ]
          },
          "metadata": {
            "tags": [],
            "needs_background": "light"
          }
        }
      ]
    },
    {
      "cell_type": "code",
      "metadata": {
        "id": "qw6_2pd7QbAX",
        "colab_type": "code",
        "colab": {}
      },
      "source": [
        "# 載入 真．驗證資料\n",
        "import zipfile\n",
        "\n",
        "f = zipfile.ZipFile(\"./drive/My Drive/AOI/test_images.zip\")\n",
        "f.extractall(\"./datasets_test/\")"
      ],
      "execution_count": 13,
      "outputs": []
    },
    {
      "cell_type": "code",
      "metadata": {
        "id": "m6xqcln5aKyW",
        "colab_type": "code",
        "colab": {}
      },
      "source": [
        "for Paths in glob('/content/datasets_test/test_images/*'):\n",
        "  # fileName\n",
        "  fileName = Paths.split(\"/\")[-1]\n",
        "\n",
        "  # 圖片預處理\n",
        "  img = load_img(Paths)\n",
        "  img_npm = np.array(img)\n",
        "  img_pre = preprocess_input(img_npm)\n",
        "  IMGED = np.array(img_pre)\n",
        "\n",
        "  # 存檔\n",
        "  NewPaths = \"/content/test_images/test/\" + str(fileName)\n",
        "  cv2.imwrite(NewPaths, IMGED)"
      ],
      "execution_count": 14,
      "outputs": []
    },
    {
      "cell_type": "code",
      "metadata": {
        "id": "qIQ9MtsjaKv9",
        "colab_type": "code",
        "colab": {
          "base_uri": "https://localhost:8080/",
          "height": 34
        },
        "outputId": "c8b95f09-28e6-4d80-eaa8-1315843c594a"
      },
      "source": [
        "TestFlowed = Generator.flow_from_directory(\n",
        "    directory = \"/content/test_images/\",\n",
        "    target_size= (Size, Size),\n",
        "    class_mode= None,\n",
        "    shuffle= False, \n",
        "    )"
      ],
      "execution_count": 15,
      "outputs": [
        {
          "output_type": "stream",
          "text": [
            "Found 10142 images belonging to 1 classes.\n"
          ],
          "name": "stdout"
        }
      ]
    },
    {
      "cell_type": "code",
      "metadata": {
        "id": "foEjkE7JaKtq",
        "colab_type": "code",
        "colab": {
          "base_uri": "https://localhost:8080/",
          "height": 34
        },
        "outputId": "44e87eee-4b62-453c-b479-06206fa12719"
      },
      "source": [
        "predict = model.predict(TestFlowed, verbose=1).argmax(axis=-1)"
      ],
      "execution_count": 16,
      "outputs": [
        {
          "output_type": "stream",
          "text": [
            "317/317 [==============================] - 47s 149ms/step\n"
          ],
          "name": "stdout"
        }
      ]
    },
    {
      "cell_type": "code",
      "metadata": {
        "id": "ECrbF_CAaKrT",
        "colab_type": "code",
        "colab": {}
      },
      "source": [
        "# 預言文件\n",
        "\n",
        "import pandas as pd\n",
        "\n",
        "result = pd.read_csv(\"./drive/My Drive/AOI/test.csv\")\n",
        "\n",
        "result[\"Label\"] = list(predict)"
      ],
      "execution_count": 17,
      "outputs": []
    },
    {
      "cell_type": "code",
      "metadata": {
        "id": "AuU6CaR6aKox",
        "colab_type": "code",
        "colab": {}
      },
      "source": [
        "# 存檔 上傳Aidea 拿成績\n",
        "result.to_csv(\"/content/drive/My Drive/Result.csv\", encoding=\"UTF8\", index=False)"
      ],
      "execution_count": 18,
      "outputs": []
    },
    {
      "cell_type": "code",
      "metadata": {
        "id": "OGOmykYLaKmF",
        "colab_type": "code",
        "colab": {
          "base_uri": "https://localhost:8080/",
          "height": 276
        },
        "outputId": "7cc709e8-8515-4cef-8c42-b28cdad16847"
      },
      "source": [
        "from tensorflow.keras.preprocessing.image import load_img\n",
        "\n",
        "load_img('/content/drive/My Drive/GG/AA.png')"
      ],
      "execution_count": 19,
      "outputs": [
        {
          "output_type": "execute_result",
          "data": {
            "image/png": "[encoded data removed]",
            "text/plain": [
              "<PIL.PngImagePlugin.PngImageFile image mode=RGB size=1120x321 at 0x7F3FE8DF0D68>"
            ]
          },
          "metadata": {
            "tags": []
          },
          "execution_count": 19
        }
      ]
    }
  ]
}