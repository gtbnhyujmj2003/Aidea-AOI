{
  "nbformat": 4,
  "nbformat_minor": 0,
  "metadata": {
    "colab": {
      "name": "EFF.ipynb",
      "provenance": [],
      "collapsed_sections": [],
      "mount_file_id": "1KlGL9wNcXQtCOWJ-09p_d8TdQT15OUc6",
      "authorship_tag": "ABX9TyNrmafQwK6+elva+XiNW5F2",
      "include_colab_link": true
    },
    "kernelspec": {
      "name": "python3",
      "display_name": "Python 3"
    },
    "accelerator": "GPU"
  },
  "cells": [
    {
      "cell_type": "markdown",
      "metadata": {
        "id": "view-in-github",
        "colab_type": "text"
      },
      "source": [
        "<a href=\"https://colab.research.google.com/github/gtbnhyujmj2003/Aidea-AOI/blob/master/%5BAidea%5D%5BAOI%5D%5B10%5D%20EfficientNet%20B0%20-%20%5Blr%20%3D%200.000001%5D.ipynb\" target=\"_parent\"><img src=\"https://colab.research.google.com/assets/colab-badge.svg\" alt=\"Open In Colab\"/></a>"
      ]
    },
    {
      "cell_type": "code",
      "metadata": {
        "id": "cwhun1pxP3nr",
        "colab_type": "code",
        "colab": {}
      },
      "source": [
        "%tensorflow_version 2.x\n",
        "!pip install -U efficientnet"
      ],
      "execution_count": null,
      "outputs": []
    },
    {
      "cell_type": "code",
      "metadata": {
        "id": "Lt_oAr8oP98q",
        "colab_type": "code",
        "colab": {}
      },
      "source": [
        "# 因為圖片實在太多，所以要用壓縮檔載入\n",
        "\n",
        "import zipfile\n",
        "\n",
        "f = zipfile.ZipFile(\"./drive/My Drive/AOI/train_images.zip\")\n",
        "f.extractall(\"./datasets\")"
      ],
      "execution_count": 2,
      "outputs": []
    },
    {
      "cell_type": "code",
      "metadata": {
        "id": "Wh-eyH62P954",
        "colab_type": "code",
        "colab": {}
      },
      "source": [
        "# 創造資料夾\n",
        "\n",
        "import os\n",
        "\n",
        "for class_num in range(6):\n",
        "  DATASET_PATH_TRAIN = '/content/train_images/'\n",
        "  DATASET_PATH_TEST = '/content/test_images/'\n",
        "\n",
        "  # exist_ok：只有在目录不存在时创建目录，目录已存在时不会抛出异常。\n",
        "  os.makedirs(DATASET_PATH_TRAIN + str(class_num), exist_ok=True)\n",
        "  os.makedirs(DATASET_PATH_TEST + \"test\", exist_ok=True)"
      ],
      "execution_count": 3,
      "outputs": []
    },
    {
      "cell_type": "code",
      "metadata": {
        "id": "IBTqVL1cSAJJ",
        "colab_type": "code",
        "colab": {}
      },
      "source": [
        "# 移動檔案\n",
        "\n",
        "import shutil\n",
        "import pandas as pd\n",
        "\n",
        "imageAns = pd.read_csv(\"./drive/My Drive/AOI/train.csv\")\n",
        "\n",
        "for class_num in range(6):\n",
        "  class00 = imageAns[imageAns[\"Label\"] == class_num]\n",
        "  class_list = class00[\"ID\"]\n",
        "  # print(class_list)\n",
        "\n",
        "  for c in class_list:\n",
        "    shutil.move('/content/datasets/train_images/' + str(c), \n",
        "                '/content/train_images/' + str(class_num) + \"/\" + str(c))"
      ],
      "execution_count": 4,
      "outputs": []
    },
    {
      "cell_type": "code",
      "metadata": {
        "id": "gsBJofdqP93Y",
        "colab_type": "code",
        "colab": {}
      },
      "source": [
        "# Generator\n",
        "\n",
        "from tensorflow.keras.preprocessing.image import ImageDataGenerator\n",
        "Generator = ImageDataGenerator(rescale= (1. - 127.5) / 127.5,\n",
        "                               validation_split= 0.2)"
      ],
      "execution_count": 5,
      "outputs": []
    },
    {
      "cell_type": "code",
      "metadata": {
        "id": "MeGRHLqiP9sq",
        "colab_type": "code",
        "colab": {}
      },
      "source": [
        "# 使用不同 efficientnetB 系列时，需要注意图片输入尺寸\n",
        "\n",
        "# efficientnet-b0-224\n",
        "# efficientnet-b1-240\n",
        "# efficientnet-b2-260\n",
        "# efficientnet-b3-300\n",
        "# efficientnet-b4-380\n",
        "# efficientnet-b5-456\n",
        "# efficientnet-b6-528\n",
        "# efficientnet-b7-600"
      ],
      "execution_count": 6,
      "outputs": []
    },
    {
      "cell_type": "code",
      "metadata": {
        "id": "RjmV2lC8P90k",
        "colab_type": "code",
        "colab": {
          "base_uri": "https://localhost:8080/",
          "height": 52
        },
        "outputId": "7fe8032d-f9be-4260-e19d-9a250fb9433d"
      },
      "source": [
        "TrainFlowGenerator = Generator.flow_from_directory(\n",
        "    directory= \"/content/train_images/\",\n",
        "    target_size= (224, 224),\n",
        "    class_mode= \"sparse\", \n",
        "    subset= \"training\")\n",
        "\n",
        "ValidFlowGenetator = Generator.flow_from_directory(\n",
        "    directory= \"/content/train_images/\",\n",
        "    target_size= (224, 224),\n",
        "    class_mode= \"sparse\", \n",
        "    subset= \"validation\")"
      ],
      "execution_count": 7,
      "outputs": [
        {
          "output_type": "stream",
          "text": [
            "Found 2025 images belonging to 6 classes.\n",
            "Found 503 images belonging to 6 classes.\n"
          ],
          "name": "stdout"
        }
      ]
    },
    {
      "cell_type": "code",
      "metadata": {
        "id": "tOcsP7hUP9p_",
        "colab_type": "code",
        "colab": {}
      },
      "source": [
        "import efficientnet.tfkeras as efn\n",
        "\n",
        "from tensorflow.keras.models import Model\n",
        "from tensorflow.keras.layers import Dense, Flatten, Dropout, MaxPooling2D\n",
        "from tensorflow.keras.layers import BatchNormalization, Activation, GlobalAveragePooling2D\n",
        "\n",
        "EfficientNetB0 = efn.EfficientNetB0(input_shape=(224, 224, 3),\n",
        "                                    include_top=False)\n",
        "\n",
        "x = EfficientNetB0.output\n",
        "x = GlobalAveragePooling2D()(x)\n",
        "x = Dense(1024, activation=\"tanh\")(x)\n",
        "y = Dense(6, activation=\"softmax\")(x)\n",
        "\n",
        "model = Model(inputs=EfficientNetB0.input, outputs=y)"
      ],
      "execution_count": 8,
      "outputs": []
    },
    {
      "cell_type": "code",
      "metadata": {
        "id": "DlqNzaoYP9nb",
        "colab_type": "code",
        "colab": {}
      },
      "source": [
        "from tensorflow.keras.optimizers import Adam\n",
        "from tensorflow.keras.losses import SparseCategoricalCrossentropy\n",
        "\n",
        "model.compile(optimizer= Adam(learning_rate=0.00001),\n",
        "              loss= SparseCategoricalCrossentropy(),\n",
        "              metrics= ['accuracy'],)"
      ],
      "execution_count": 9,
      "outputs": []
    },
    {
      "cell_type": "code",
      "metadata": {
        "id": "avuoleosP9ku",
        "colab_type": "code",
        "colab": {}
      },
      "source": [
        "history = model.fit(TrainFlowGenerator, epochs=50, verbose=2,\n",
        "                    validation_data=ValidFlowGenetator,\n",
        "                   )"
      ],
      "execution_count": null,
      "outputs": []
    },
    {
      "cell_type": "code",
      "metadata": {
        "id": "HwHKf68oP9iD",
        "colab_type": "code",
        "colab": {
          "base_uri": "https://localhost:8080/",
          "height": 295
        },
        "outputId": "82ebaa96-dade-4a12-9e82-fdb3317096eb"
      },
      "source": [
        "# accuracy\n",
        "\n",
        "import matplotlib.pyplot as plt\n",
        "\n",
        "plt.plot(history.history['accuracy'])\n",
        "plt.plot(history.history['val_accuracy'])\n",
        "\n",
        "plt.title('model accuracy')\n",
        "\n",
        "plt.ylabel('accuracy')\n",
        "plt.xlabel('epoch')\n",
        "\n",
        "plt.legend(['Train', 'Valid'], loc='upper left') \n",
        "plt.show()"
      ],
      "execution_count": 11,
      "outputs": [
        {
          "output_type": "display_data",
          "data": {
            "image/png": "[encoded data removed]",
            "text/plain": [
              "<Figure size 432x288 with 1 Axes>"
            ]
          },
          "metadata": {
            "tags": [],
            "needs_background": "light"
          }
        }
      ]
    },
    {
      "cell_type": "code",
      "metadata": {
        "id": "FbXfxtoJP9fn",
        "colab_type": "code",
        "colab": {}
      },
      "source": [
        "# 載入 真．驗證資料\n",
        "import zipfile\n",
        "\n",
        "f = zipfile.ZipFile(\"./drive/My Drive/AOI/test_images.zip\")\n",
        "f.extractall(\"./datasets_test/\")"
      ],
      "execution_count": 12,
      "outputs": []
    },
    {
      "cell_type": "code",
      "metadata": {
        "id": "DwKsjYswP9aL",
        "colab_type": "code",
        "colab": {
          "base_uri": "https://localhost:8080/",
          "height": 34
        },
        "outputId": "a1e7a3c8-ad3e-4437-cd27-acab991f0403"
      },
      "source": [
        "TestFlowed = Generator.flow_from_directory(\n",
        "    directory = \"/content/datasets_test/\",\n",
        "    target_size= (224, 224),\n",
        "    class_mode= None,\n",
        "    shuffle= False, \n",
        "    )"
      ],
      "execution_count": 16,
      "outputs": [
        {
          "output_type": "stream",
          "text": [
            "Found 10142 images belonging to 1 classes.\n"
          ],
          "name": "stdout"
        }
      ]
    },
    {
      "cell_type": "code",
      "metadata": {
        "id": "uSlio0MkO8g2",
        "colab_type": "code",
        "colab": {
          "base_uri": "https://localhost:8080/",
          "height": 34
        },
        "outputId": "1b0c4fb8-cf02-4702-f1f9-963704af04e1"
      },
      "source": [
        "predict = model.predict(TestFlowed, verbose=1).argmax(axis=-1)"
      ],
      "execution_count": 17,
      "outputs": [
        {
          "output_type": "stream",
          "text": [
            "317/317 [==============================] - 44s 138ms/step\n"
          ],
          "name": "stdout"
        }
      ]
    },
    {
      "cell_type": "code",
      "metadata": {
        "id": "fTd9t87DO8ed",
        "colab_type": "code",
        "colab": {}
      },
      "source": [
        "# 預言文件\n",
        "\n",
        "import pandas as pd\n",
        "\n",
        "result = pd.read_csv(\"./drive/My Drive/AOI/test.csv\")\n",
        "\n",
        "result[\"Label\"] = list(predict)"
      ],
      "execution_count": 18,
      "outputs": []
    },
    {
      "cell_type": "code",
      "metadata": {
        "id": "DUrNq-zpO8bw",
        "colab_type": "code",
        "colab": {}
      },
      "source": [
        "# 存檔 上傳Aidea 拿成績\n",
        "result.to_csv(\"/content/drive/My Drive/Result.csv\", encoding=\"UTF8\", index=False)"
      ],
      "execution_count": 19,
      "outputs": []
    },
    {
      "cell_type": "code",
      "metadata": {
        "id": "9pj9tVHBhuw8",
        "colab_type": "code",
        "colab": {
          "base_uri": "https://localhost:8080/",
          "height": 276
        },
        "outputId": "5c85a060-8fc2-4f7e-db48-579c8271abb8"
      },
      "source": [
        "from tensorflow.keras.preprocessing.image import load_img\n",
        "\n",
        "load_img('/content/drive/My Drive/GG/AA.png')"
      ],
      "execution_count": 20,
      "outputs": [
        {
          "output_type": "execute_result",
          "data": {
            "image/png": "[encoded data removed]",
            "text/plain": [
              "<PIL.PngImagePlugin.PngImageFile image mode=RGB size=1120x321 at 0x7F44B6542AC8>"
            ]
          },
          "metadata": {
            "tags": []
          },
          "execution_count": 20
        }
      ]
    }
  ]
}